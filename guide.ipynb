{
 "metadata": {
  "name": "",
  "signature": "sha256:5838f01ccad3ba9bed445d4678079b35507bb667e668bb8cb80be3c7a7312b1c"
 },
 "nbformat": 3,
 "nbformat_minor": 0,
 "worksheets": [
  {
   "cells": [
    {
     "cell_type": "heading",
     "level": 1,
     "metadata": {},
     "source": [
      "NEMO User's Guide: an IPython Notebook"
     ]
    },
    {
     "cell_type": "heading",
     "level": 2,
     "metadata": {},
     "source": [
      "A simple example"
     ]
    },
    {
     "cell_type": "markdown",
     "metadata": {},
     "source": [
      "NEMO can be driven by your own Python code.  Some simple examples of how to do this appear below.  First, we will create a simulation with a single combined cycle gas turbine (CCGT). The \"NSW1:31\" notation indicates that the generator is sited in polygon 31 in the NSW1 region."
     ]
    },
    {
     "cell_type": "code",
     "collapsed": false,
     "input": [
      "import nem\n",
      "import scenarios\n",
      "c = nem.Context()\n",
      "scenarios._one_ccgt(c)\n",
      "print c.generators"
     ],
     "language": "python",
     "metadata": {},
     "outputs": [
      {
       "output_type": "stream",
       "stream": "stdout",
       "text": [
        "[CCGT (NSW1:31), 0.00 GW]\n"
       ]
      }
     ],
     "prompt_number": 9
    },
    {
     "cell_type": "markdown",
     "metadata": {},
     "source": [
      "Then run the simulation:"
     ]
    },
    {
     "cell_type": "code",
     "collapsed": false,
     "input": [
      "nem.run(c)\n",
      "print c"
     ],
     "language": "python",
     "metadata": {},
     "outputs": [
      {
       "output_type": "stream",
       "stream": "stdout",
       "text": [
        "Timesteps: 8760 h\n",
        "Demand energy: 204.4 TWh\n",
        "Unused surplus energy: 0.0 TWh\n",
        "Unserved energy: 100.000%\n",
        "WARNING: reliability standard exceeded\n",
        "Unserved total hours: 8760\n",
        "Number of unserved energy events: 1\n",
        "Shortfalls (min, max): (15469.0, 33645.0)\n"
       ]
      }
     ],
     "prompt_number": 10
    },
    {
     "cell_type": "markdown",
     "metadata": {},
     "source": [
      "The CCGT is configured with a capacity of 0 MW. Hence, no electricity is served in the simulation (100% unserved energy) and the largest shortfall was 33,645 MW (33.6 GW). This figure corresponds to the peak demand in the simulated year.\n",
      "\n",
      "Let's now do a run with two CCGTs (13.2 GW and 20 GW) such that almost of the demand is met except for a few hours of unserved energy:"
     ]
    },
    {
     "cell_type": "code",
     "collapsed": false,
     "input": [
      "c = nem.Context()\n",
      "c.generators[0].set_capacity(13.2)\n",
      "nem.run(c)\n",
      "print c"
     ],
     "language": "python",
     "metadata": {},
     "outputs": [
      {
       "output_type": "stream",
       "stream": "stdout",
       "text": [
        "Timesteps: 8760 h\n",
        "Demand energy: 204.4 TWh\n",
        "Unused surplus energy: 0.0 TWh\n",
        "Unserved energy: 0.001%\n",
        "Unserved total hours: 6\n",
        "Number of unserved energy events: 2\n",
        "Shortfalls (min, max): (88.0, 445.0)\n"
       ]
      }
     ],
     "prompt_number": 11
    },
    {
     "cell_type": "markdown",
     "metadata": {},
     "source": [
      "If we print the `unserved` attribute in the context, we can see when the six hours of unserved energy occurred and how large the shortfalls were:"
     ]
    },
    {
     "cell_type": "code",
     "collapsed": false,
     "input": [
      "print c.unserved"
     ],
     "language": "python",
     "metadata": {},
     "outputs": [
      {
       "output_type": "stream",
       "stream": "stdout",
       "text": [
        "Date_Time\n",
        "2010-01-11 13:00:00     88.360\n",
        "2010-01-11 14:00:00    245.200\n",
        "2010-01-11 15:00:00    445.140\n",
        "2010-01-11 16:00:00    113.530\n",
        "2010-01-12 13:00:00    245.860\n",
        "2010-01-12 14:00:00    178.365\n",
        "dtype: float64\n"
       ]
      }
     ],
     "prompt_number": 12
    },
    {
     "cell_type": "heading",
     "level": 2,
     "metadata": {},
     "source": [
      "Plotting results"
     ]
    },
    {
     "cell_type": "markdown",
     "metadata": {},
     "source": [
      "NEMO includes a `utils.py` module that includes a `plot` function to show the time sequential dispatch. The following example demonstrates its use:"
     ]
    },
    {
     "cell_type": "code",
     "collapsed": false,
     "input": [
      "%matplotlib inline\n",
      "import utils\n",
      "utils.plot(c)"
     ],
     "language": "python",
     "metadata": {},
     "outputs": [
      {
       "metadata": {},
       "output_type": "display_data",
       "png": "[encoded data removed]",
       "text": [
        "<matplotlib.figure.Figure at 0x7fb27f3cddd0>"
       ]
      }
     ],
     "prompt_number": 13
    },
    {
     "cell_type": "markdown",
     "metadata": {},
     "source": [
      "The previous plot is rather bunched up. Instead, you can also pass a pair of dates to the `plot()` function to limit the range of dates shown. For example:"
     ]
    },
    {
     "cell_type": "code",
     "collapsed": false,
     "input": [
      "%matplotlib inline\n",
      "from datetime import datetime\n",
      "utils.plot(c, xlim=[datetime(2010, 1, 5), datetime(2010, 1, 12)])"
     ],
     "language": "python",
     "metadata": {},
     "outputs": [
      {
       "metadata": {},
       "output_type": "display_data",
       "png": "[encoded data removed]",
       "text": [
        "<matplotlib.figure.Figure at 0x7fb27f3cdc10>"
       ]
      }
     ]
    },
    {
     "cell_type": "heading",
     "level": 2,
     "metadata": {},
     "source": [
      "Scripting simulations "
     ]
    },
    {
     "cell_type": "markdown",
     "metadata": {},
     "source": [
      "Writing NEMO in Python allows the simulation framework to be easily scripted using Python language constructs, such as for loops. Using the previous example, the following small script demonstrates how simulation runs can be automated:"
     ]
    },
    {
     "cell_type": "code",
     "collapsed": false,
     "input": [
      "c = nem.Context()\n",
      "scenarios._one_ccgt(c)\n",
      "for i in range(0, 40):\n",
      "    c.generators[0].set_capacity(i)\n",
      "    nem.run(c)\n",
      "    if c.unserved_energy == 0:\n",
      "        break\n",
      "print c.generators"
     ],
     "language": "python",
     "metadata": {},
     "outputs": []
    },
    {
     "cell_type": "markdown",
     "metadata": {},
     "source": [
      "Once the generator capacity reaches 34 GW, there is no unserved energy."
     ]
    },
    {
     "cell_type": "heading",
     "level": 2,
     "metadata": {},
     "source": [
      "Scenarios"
     ]
    },
    {
     "cell_type": "markdown",
     "metadata": {},
     "source": [
      "NEMO contains two types of scenarios: supply-side and demand-side scenarios. The supply-side scenario modifies the list of generators. For example:"
     ]
    },
    {
     "cell_type": "code",
     "collapsed": false,
     "input": [
      "c = nem.Context()\n",
      "scenarios.ccgt(c)\n",
      "print c.generators"
     ],
     "language": "python",
     "metadata": {},
     "outputs": []
    },
    {
     "cell_type": "markdown",
     "metadata": {},
     "source": [
      "A list of the current supply-side scenarios (with descriptions) can be obtained by running `python evolve.py --list-scenarios` from the shell (without the leading !):"
     ]
    },
    {
     "cell_type": "code",
     "collapsed": false,
     "input": [
      "!python evolve.py --list-scenarios"
     ],
     "language": "python",
     "metadata": {},
     "outputs": []
    },
    {
     "cell_type": "markdown",
     "metadata": {},
     "source": [
      "Demand-side scenarios modify the electricity demand time series before the simulation runs. Demand-side scenarios behave like operators that can be combined in any combination to modify the demand as desired. These are:\n",
      "\n",
      "   * roll:X rolls the load by x timesteps\n",
      "   * scale:X scales the load by x percent\n",
      "   * scaletwh:X scales the load to x TWh\n",
      "   * shift:N:H1:H2 shifts n megawatts every day from hour h1 to hour h2\n",
      "   * peaks:N:X adjust demand peaks over n megawatts by x percent\n",
      "   * npeaks:N:X adjust top n demand peaks by x percent\n",
      "\n",
      "For example, applying `scale:-10` followed by `shift:1000:16:12` will reduce the overall demand by 10% and then shift 1 MW of demand from 4pm to noon every day of the year."
     ]
    },
    {
     "cell_type": "heading",
     "level": 2,
     "metadata": {},
     "source": [
      "Configuration file"
     ]
    },
    {
     "cell_type": "markdown",
     "metadata": {},
     "source": [
      "NEMO uses a configuration file to give users control over where data such as demand time series are to be found. The location of the configuration file can be specified by setting the NEMORC environment variable. The configuration file format is similar to Windows INI files; it has sections (in brackets) and, within sections, key=value pairs.\n",
      "\n",
      "The default configuration file is called `default.cfg`. The keys currently recognised are:\n",
      "\n",
      "  * [costs]\n",
      "  *  *  co2-price-per-t\n",
      "  *  *  ccs-storage-costs-per-t\n",
      "  *  *  coal-price-per-gj\n",
      "  *  *  discount-rate -- as a fraction (eg 0.05)\n",
      "  *  *  gas-price-per-gj\n",
      "  *  *  technology-cost-class -- default cost class\n",
      "  * [limits]\n",
      "  *  *  hydro-twh-per-yr\n",
      "  *  *  bioenergy-twh-per-yr\n",
      "  *  *  nonsync-penetration -- as a fraction (eg 0.75)\n",
      "  *  *  minimum-reserves-mw\n",
      "  * [optimiser]\n",
      "  *  *  generations -- number of CMA-ES generations to run\n",
      "  *  *  sigma -- initial step-size\n",
      "  * [generation]\n",
      "  *  *  cst-trace -- URL of CST generation traces\n",
      "  *  *  egs-geothermal-trace -- URL of EGS geothermal generation traces\n",
      "  *  *  hsa-geothermal-trace -- URL of HSA geothermal generation traces\n",
      "  *  *  wind-trace -- URL of wind generation traces\n",
      "  *  *  pv1axis-trace -- URL of 1-axis PV generation traces\n",
      "  *  *  rooftop-pv-trace -- URL of rooftop PV generation traces\n",
      "  * [demand]\n",
      "  *  *  demand-trace -- URL of demand trace data"
     ]
    },
    {
     "cell_type": "heading",
     "level": 2,
     "metadata": {},
     "source": [
      "Running an optimisation"
     ]
    },
    {
     "cell_type": "markdown",
     "metadata": {},
     "source": [
      "Instead of running a single simulation, it is more interesting to use evolve.py which drives an evolutionary algorithm to find the least cost portfolio that meets demand. There are many options which you can discover by running `python evolve.py --help`. Here is a simple example to find the least cost portfolio using the default \"re100\" scenario (100% renewables):\n",
      "\n",
      "`$ python evolve.py -s re100`\n",
      "\n",
      "At the end of a run, details of the least cost system are printed on the console: the capacity of each generator, the energy supplied, CO2 emissions, costs, and the average cost of generation in dollars per MWh.  If you want to see a plot of the system dispatch, you need to use the `replay.py` script described in the next section.\n",
      "\n",
      "Many of the optimisation parameters can be controlled from the command line, requiring no changes to the source code. Typically, source code changes are only required to add [new supply scenario functions](https://git.ozlabs.org/?p=nemo.git;a=blob;f=scenarios.py;hb=HEAD) or [cost classes](https://git.ozlabs.org/?p=nemo.git;a=blob;f=costs.py;hb=HEAD). The command line options for `evolve.py` are documented as follows:\n",
      "\n",
      "| Short option | Long option | Description                                  | Default |\n",
      "|--------------|-------------|----------------------------------------------|---------|\n",
      "| -h | --help                | Show help and then exit                      |         |\n",
      "| -c | --carbon-price        | Carbon price in \\$/tonne                     | 25      |\n",
      "| -d | --demand-modifier     | Demand modifier                              | unchanged |\n",
      "| -g | --generations         | Number of generations to run                 | 100     |\n",
      "| -o | --output              | Filename of results output file (will overwrite) | results.json |\n",
      "| -r | --discount-rate       | Discount rate                                | 0.05    |\n",
      "| -s | --supply-scenario     | Generation mix scenario                      | `re100` |\n",
      "| -t | --transmission        | Include transmission costs                   | False   |\n",
      "| -v | --verbose             | Be verbose                                   | False   |\n",
      "|    | --bioenergy-limit     | Limit on annual energy from bioenergy in TWh/year | 20 |\n",
      "|    | --ccs-storage-costs   | CCS storage costs in \\$/tonne                | 27      |\n",
      "|    | --coal-price          | Coal price in \\$/GJ                          | 1.86    |\n",
      "|    | --costs               | Use different cost scenario                  | AETA2013-in2030-mid |\n",
      "|    | --emissions-limit     | Limit total emissions to N Mt/year           | None |\n",
      "|    | --fossil-limit        | Limit fraction of energy from fossil sources | None |\n",
      "|    | --gas-price           | Gas price in \\$/GJ                           | 11   |\n",
      "|    | --hydro-limit         | Limit on annual energy from hydro in TWh/year| 12   |\n",
      "|    | --lambda              | CMA-ES lambda value                          | None (autodetect) |\n",
      "|    | --list-scenarios      | Print list of scenarios and exit             |      |\n",
      "|    | --min-regional-generation | Minimum share of energy generated intra-region | None |\n",
      "|    | --nsp-limit           | Non-synchronous penetration limit            | 0.75 |\n",
      "|    | --reliability-std     | Reliability standard (% unserved)            | None |\n",
      "|    | --seed                | Seed for random number generator             | None |\n",
      "|    | --sigma               | CMA-ES sigma value                           | 2.0  |\n",
      "|    | --trace-file          | Filename for evaluation trace                | None |\n",
      "|    | --version             | Print version number and exit                |      |"
     ]
    },
    {
     "cell_type": "heading",
     "level": 2,
     "metadata": {},
     "source": [
      "Replaying a simulation"
     ]
    },
    {
     "cell_type": "markdown",
     "metadata": {},
     "source": [
      "To avoid having to re-run a long optimisation just to examine the resulting system, it is possible to reproduce a single run using the results from an earlier optimisation. The `evolve.py` script writes an output file at the end of the run (default filename `results.json`).  This file encodes all of the relevant information from the optimisation run so that the solution it found can be replayed easily and accurately by `replay.py`.\n",
      "\n",
      "The input file for `replay.py` may consist of any number of scenarios and configurations to replay, one per line. Blank lines are ignored and comment lines (`#`) are shown for information. Each non-comment line must contain a JSON record from the results file that `evolve.py` writes. Typically the input file for `replay.py` will just be the output file from `evolve.py` unmodified. However, if you want multiple simulations to be replayed, this is easy to achieve by pasting multiple JSON strings into the file, one per line.\n",
      "\n",
      "A run is replayed using `replay.py` like so:\n",
      "\n",
      "`$ python replay.py -f results.json -x`\n",
      "\n",
      "The `-f` switch specifies the name of the input data file (the default is `results.json`) and the `-x` option enables a graphical plot of the system dispatch that you can navigate using zoom in, zoom out and pan controls. By including the `--spills` option, surplus energy in each hour will be plotted above the demand line in a lighter shade than the usual colour of the spilling generator.  All command line options can be displayed using:"
     ]
    },
    {
     "cell_type": "code",
     "collapsed": false,
     "input": [
      "!python replay.py --help"
     ],
     "language": "python",
     "metadata": {},
     "outputs": []
    },
    {
     "cell_type": "heading",
     "level": 2,
     "metadata": {},
     "source": [
      "Summarising the results"
     ]
    },
    {
     "cell_type": "markdown",
     "metadata": {},
     "source": [
      "At the end of a simulation run, the results (including score, generator sizes, generated energy, CO2 emissions, etc.) can be fed through an AWK script called [summary.awk](https://git.ozlabs.org/?p=nemo.git;a=blob;f=summary.awk;hb=HEAD). You will need a version of AWK installed. This is almost guaranteed to be installed on a Linux or Mac OS X system, but for Windows you can download a [version](http://gnuwin32.sourceforge.net/packages/gawk.htm) from Sourceforge.\n",
      "\n",
      "You can feed the output of `evolve.py` or `replay.py` into the `summary.awk` script.  For example:\n",
      "\n",
      "`$ python replay.py -f previous.out -v | awk -f summary.awk`\n",
      "\n",
      "(Note: replace `awk` with `gawk` if you are using GNU AWK)\n",
      "\n",
      "In the next example, the results are written to `results.txt` (using the Unix `tee` utility) in addition to being fed through the summary script:\n",
      "\n",
      "`$ python evolve.py -s re100 | tee results.txt | awk -f summary.awk`\n"
     ]
    }
   ],
   "metadata": {}
  }
 ]
}