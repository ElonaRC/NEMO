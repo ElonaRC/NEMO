{
 "metadata": {
  "name": "",
  "signature": "sha256:70129e9ada78243eff30ec3c6c0d67c4a041d359a8570f662d4e9e7f46e5caa4"
 },
 "nbformat": 3,
 "nbformat_minor": 0,
 "worksheets": [
  {
   "cells": [
    {
     "cell_type": "heading",
     "level": 1,
     "metadata": {},
     "source": [
      "NEMO User's Guide: an IPython Notebook"
     ]
    },
    {
     "cell_type": "heading",
     "level": 2,
     "metadata": {},
     "source": [
      "A simple example"
     ]
    },
    {
     "cell_type": "markdown",
     "metadata": {},
     "source": [
      "NEMO can be driven by your own Python code.  Some simple examples of how to do this appear below.  First, we will create a simulation with a single combined cycle gas turbine (CCGT). The \"NSW1:31\" notation indicates that the generator is sited in polygon 31 in the NSW1 region."
     ]
    },
    {
     "cell_type": "code",
     "collapsed": false,
     "input": [
      "import nem\n",
      "import scenarios\n",
      "c = nem.Context()\n",
      "scenarios._one_ccgt(c)\n",
      "print c.generators"
     ],
     "language": "python",
     "metadata": {},
     "outputs": [
      {
       "output_type": "stream",
       "stream": "stdout",
       "text": [
        "[CCGT (NSW1:31), 0.00 GW]\n"
       ]
      }
     ],
     "prompt_number": 5
    },
    {
     "cell_type": "markdown",
     "metadata": {},
     "source": [
      "Then run the simulation:"
     ]
    },
    {
     "cell_type": "code",
     "collapsed": false,
     "input": [
      "nem.run(c)\n",
      "print c"
     ],
     "language": "python",
     "metadata": {},
     "outputs": [
      {
       "output_type": "stream",
       "stream": "stdout",
       "text": [
        "Timesteps: 8760 h\n",
        "Demand energy: 204.4 TWh\n",
        "Unused surplus energy: 0.0 TWh\n",
        "Unserved energy: 100.000%\n",
        "WARNING: NEM reliability standard exceeded\n",
        "Unserved total hours: 8760\n",
        "Number of unserved energy events: 1\n",
        "min, max shortfalls: (15469.0, 33645.0)\n"
       ]
      }
     ],
     "prompt_number": 6
    },
    {
     "cell_type": "markdown",
     "metadata": {},
     "source": [
      "The CCGT is configured with a capacity of 0 MW. Hence, no electricity is served in the simulation (100% unserved energy) and the largest shortfall was 33,645 MW (33.6 GW). This figure corresponds to the peak demand in the simulated year. So let's change the capacity of the only generator (generator #0) to 40 GW:"
     ]
    },
    {
     "cell_type": "code",
     "collapsed": false,
     "input": [
      "c.generators[0].set_capacity(40)\n",
      "nem.run(c)\n",
      "print c"
     ],
     "language": "python",
     "metadata": {},
     "outputs": [
      {
       "output_type": "stream",
       "stream": "stdout",
       "text": [
        "Timesteps: 8760 h\n",
        "Demand energy: 204.4 TWh\n",
        "Unused surplus energy: 0.0 TWh\n",
        "No unserved energy\n"
       ]
      }
     ],
     "prompt_number": 7
    },
    {
     "cell_type": "markdown",
     "metadata": {},
     "source": [
      "This time, all energy was served."
     ]
    },
    {
     "cell_type": "heading",
     "level": 2,
     "metadata": {},
     "source": [
      "Scripting simulations "
     ]
    },
    {
     "cell_type": "markdown",
     "metadata": {},
     "source": [
      "Writing NEMO in Python allows the simulation framework to be easily scripted using Python language constructs, such as for loops. Using the previous example, the following small script demonstrates how simulation runs can be automated:"
     ]
    },
    {
     "cell_type": "code",
     "collapsed": false,
     "input": [
      "c = nem.Context()\n",
      "scenarios._one_ccgt(c)\n",
      "for i in range(0, 40):\n",
      "    c.generators[0].set_capacity(i)\n",
      "    nem.run(c)\n",
      "    if c.unserved_energy == 0:\n",
      "        break\n",
      "print c.generators"
     ],
     "language": "python",
     "metadata": {},
     "outputs": [
      {
       "output_type": "stream",
       "stream": "stdout",
       "text": [
        "[CCGT (NSW1:31), 34.00 GW]\n"
       ]
      }
     ],
     "prompt_number": 8
    },
    {
     "cell_type": "markdown",
     "metadata": {},
     "source": [
      "Once the generator capacity reaches 34 GW, there is no unserved energy."
     ]
    },
    {
     "cell_type": "heading",
     "level": 2,
     "metadata": {},
     "source": [
      "Scenarios"
     ]
    },
    {
     "cell_type": "markdown",
     "metadata": {},
     "source": [
      "NEMO contains two types of scenarios: supply-side and demand-side scenarios. The supply-side scenario modifies the list of generators. For example:"
     ]
    },
    {
     "cell_type": "code",
     "collapsed": false,
     "input": [
      "c = nem.Context()\n",
      "scenarios.ccgt(c)\n",
      "print c.generators"
     ],
     "language": "python",
     "metadata": {},
     "outputs": [
      {
       "output_type": "stream",
       "stream": "stdout",
       "text": [
        "[CCGT (NSW1:31), 0.00 GW, poly 17 pumped-hydro (QLD1:17), 0.50 GW, poly 36 pumped-hydro (NSW1:36), 1.74 GW, poly 24 hydro (NSW1:24), 0.04 GW, poly 31 hydro (NSW1:31), 0.04 GW, poly 35 hydro (NSW1:35), 0.07 GW, poly 36 hydro (NSW1:36), 2.51 GW, poly 38 hydro (VIC1:38), 0.45 GW, poly 39 hydro (VIC1:39), 0.01 GW, poly 40 hydro (TAS1:40), 0.59 GW, poly 41 hydro (TAS1:41), 0.28 GW, poly 42 hydro (TAS1:42), 0.59 GW, poly 43 hydro (TAS1:43), 0.46 GW, OCGT (NSW1:31), 0.00 GW]\n"
       ]
      }
     ],
     "prompt_number": 9
    },
    {
     "cell_type": "markdown",
     "metadata": {},
     "source": [
      "A list of the current supply-side scenarios (with descriptions) can be obtained by running `python evolve.py --list-scenarios` from the shell (without the leading !):"
     ]
    },
    {
     "cell_type": "code",
     "collapsed": false,
     "input": [
      "!python evolve.py --list-scenarios"
     ],
     "language": "python",
     "metadata": {},
     "outputs": [
      {
       "output_type": "stream",
       "stream": "stdout",
       "text": [
        "        __one_ccgt__ \tOne CCGT only.\r\n",
        "                ccgt \tAll gas scenario.\r\n",
        "            ccgt-ccs \tCCGT CCS scenario.\r\n",
        "            coal-ccs \tCoal CCS scenario.\r\n",
        "              re+ccs \tMostly renewables with fossil and CCS augmentation.\r\n",
        "           re+fossil \tMostly renewables with some fossil augmentation.\r\n",
        "               re100 \t100% renewable electricity.\r\n",
        "     re100+batteries \tUse lots of renewables plus battery storage.\r\n",
        "           re100+dsp \tMostly renewables with demand side participation.\r\n",
        "           re100+egs \t100% renewables plus EGS geothermal.\r\n",
        "     re100+egs-nocst \t100% renewables with EGS geothermal but no CST.\r\n",
        "           re100+geo \t100% renewables plus both HSA and EGS geothermal.\r\n",
        "     re100+geo-nocst \t100% renewables plus geothermal, but no CST.\r\n",
        "      re100+geo-nopv \t100% renewables plus geothermal, but no CST.\r\n",
        "     re100+geo-novre \t100% renewables plus geothermal, but no variable renewable energy (VRE).\r\n",
        "    re100+geo-nowind \t100% renewables plus geothermal, but no CST.\r\n",
        "           re100+hsa \t100% renewables plus HSA geothermal.\r\n",
        "     re100+hsa-nocst \t100% renewables with HSA geothermal, but no CST.\r\n",
        "         re100-nocst \t100% renewables, but no CST.\r\n",
        "           re100-nsw \t100% renewables in New South Wales only.\r\n",
        "           re100-qld \t100% renewables in Queensland only.\r\n",
        "            re100-sa \t100% renewables in South Australia only.\r\n",
        "         replacement \tThe current NEM fleet, more or less.\r\n",
        "            theworks \tAll technologies.\r\n",
        "\r\n"
       ]
      }
     ],
     "prompt_number": 1
    },
    {
     "cell_type": "markdown",
     "metadata": {},
     "source": [
      "Demand-side scenarios modify the electricity demand time series before the simulation runs. Demand-side scenarios behave like operators that can be combined in any combination to modify the demand as desired. These are:\n",
      "\n",
      "   * roll:X rolls the load by x timesteps\n",
      "   * scale:X scales the load by x percent\n",
      "   * scaletwh:X scales the load to x TWh\n",
      "   * shift:N:H1:H2 shifts n megawatts every day from hour h1 to hour h2\n",
      "   * peaks:N:X adjust demand peaks over n megawatts by x percent\n",
      "   * npeaks:N:X adjust top n demand peaks by x percent\n",
      "\n",
      "For example, applying `scale:-10` followed by `shift:1000:16:12` will reduce the overall demand by 10% and then shift 1 MW of demand from 4pm to noon every day of the year."
     ]
    },
    {
     "cell_type": "heading",
     "level": 2,
     "metadata": {},
     "source": [
      "Configuration file"
     ]
    },
    {
     "cell_type": "markdown",
     "metadata": {},
     "source": [
      "NEMO uses a configuration file to give users control over where data such as demand time series are to be found. The location of the configuration file can be specified by setting the NEMORC environment variable. The configuration file format is similar to Windows INI files; it has sections (in brackets) and, within sections, key=value pairs.\n",
      "\n",
      "The default configuration file is called `default.cfg`. The keys currently recognised are:\n",
      "\n",
      "  * [costs]\n",
      "  *  *  co2-price-per-t\n",
      "  *  *  ccs-storage-costs-per-t\n",
      "  *  *  coal-price-per-gj\n",
      "  *  *  discount-rate -- as a fraction (eg 0.05)\n",
      "  *  *  gas-price-per-gj\n",
      "  *  *  technology-cost-class -- default cost class\n",
      "  * [limits]\n",
      "  *  *  hydro-twh-per-yr\n",
      "  *  *  bioenergy-twh-per-yr\n",
      "  *  *  nonsync-penetration -- as a fraction (eg 0.75)\n",
      "  *  *  minimum-reserves-mw\n",
      "  * [optimiser]\n",
      "  *  *  generations -- number of CMA-ES generations to run\n",
      "  *  *  sigma -- initial step-size\n",
      "  * [generation]\n",
      "  *  *  cst-trace -- URL of CST generation traces\n",
      "  *  *  egs-geothermal-trace -- URL of EGS geothermal generation traces\n",
      "  *  *  hsa-geothermal-trace -- URL of HSA geothermal generation traces\n",
      "  *  *  wind-trace -- URL of wind generation traces\n",
      "  *  *  pv1axis-trace -- URL of 1-axis PV generation traces\n",
      "  *  *  rooftop-pv-trace -- URL of rooftop PV generation traces\n",
      "  * [demand]\n",
      "  *  *  demand-trace -- URL of demand trace data"
     ]
    },
    {
     "cell_type": "heading",
     "level": 2,
     "metadata": {},
     "source": [
      "Running an optimisation"
     ]
    },
    {
     "cell_type": "markdown",
     "metadata": {},
     "source": [
      "Instead of running a single simulation, it is more interesting to use evolve.py which drives an evolutionary algorithm to find the least cost portfolio that meets demand. There are many options which you can discover by running `python evolve.py --help`. Here is a simple example to find the least cost portfolio using the default \"re100\" scenario (100% renewables):\n",
      "\n",
      "`$ python evolve.py -s re100`\n",
      "\n",
      "At the end of a run, details of the least cost system are printed on the console: the capacity of each generator, the energy supplied, CO2 emissions, costs, and the average cost of generation in dollars per MWh.  If you want to see a plot of the system dispatch, you need to use the `replay.py` script described in the next section.\n",
      "\n",
      "Many of the optimisation parameters can be controlled from the command line, requiring no changes to the source code. Typically, source code changes are only required to add [new supply scenario functions](https://git.ozlabs.org/?p=nemo.git;a=blob;f=scenarios.py;hb=HEAD) or [cost classes](https://git.ozlabs.org/?p=nemo.git;a=blob;f=costs.py;hb=HEAD). The command line options for `evolve.py` are documented as follows:\n",
      "\n",
      "| Short option | Long option | Description                                  | Default |\n",
      "|--------------|-------------|----------------------------------------------|---------|\n",
      "| -h | --help                | Show help and then exit                      |         |\n",
      "| -c | --carbon-price        | Carbon price in \\$/tonne                     | 25      |\n",
      "| -d | --demand-modifier     | Demand modifier                              | unchanged |\n",
      "| -g | --generations         | Number of generations to run                 | 100     |\n",
      "| -r | --discount-rate       | Discount rate                                | 0.05    |\n",
      "| -s | --supply-scenario     | Generation mix scenario                      | `re100` |\n",
      "| -t | --transmission        | Include transmission costs                   | False   |\n",
      "| -v | --verbose             | Be verbose                                   | False   |\n",
      "|    | --bioenergy-limit     | Limit on annual energy from bioenergy in TWh/year | 20 |\n",
      "|    | --ccs-storage-costs   | CCS storage costs in \\$/tonne                | 27      |\n",
      "|    | --coal-price          | Coal price in \\$/GJ                          | 1.86    |\n",
      "|    | --costs               | Use different cost scenario                  | AETA2013-in2030-mid |\n",
      "|    | --emissions-limit     | Limit total emissions to N Mt/year           | None |\n",
      "|    | --fossil-limit        | Limit fraction of energy from fossil sources | None |\n",
      "|    | --gas-price           | Gas price in \\$/GJ                           | 11   |\n",
      "|    | --hydro-limit         | Limit on annual energy from hydro in TWh/year| 12   |\n",
      "|    | --lambda              | CMA-ES lambda value                          | None (autodetect) |\n",
      "|    | --list-scenarios      | Print list of scenarios and exit             |      |\n",
      "|    | --min-regional-generation | Minimum share of energy generated intra-region | None |\n",
      "|    | --nsp-limit           | Non-synchronous penetration limit            | 0.75 |\n",
      "|    | --reliability-std     | Reliability standard (% unserved)            | None |\n",
      "|    | --seed                | Seed for random number generator             | None |\n",
      "|    | --sigma               | CMA-ES sigma value                           | 2.0  |\n",
      "|    | --trace-file          | Filename for evaluation trace                | None |\n",
      "|    | --version             | Print version number and exit                |      |"
     ]
    },
    {
     "cell_type": "heading",
     "level": 2,
     "metadata": {},
     "source": [
      "Replaying a simulation"
     ]
    },
    {
     "cell_type": "markdown",
     "metadata": {},
     "source": [
      "To avoid having to re-run a long optimisation just to examine the resulting system, it is possible to reproduce a single run using the results from an earlier optimisation. The parameters from an `evolve.py` run must be copied and pasted into a text file (in this example the file is called `previous.out`, but the file can have any name).  The parameters appear on the line beginning with `List:` followed by a list of numbers in square brackets (Python list notation).\n",
      "\n",
      "The input file for `replay.py` consists of any number of configurations to replay, one per line.  Each line must begin with the scenario name (eg, `ccgt`) and then a list of parameter values (in Python list notation). For example, create a file called `previous.out` using a text editor that contains the line:\n",
      "\n",
      "`ccgt: [21.5, 8.46, 1.54, 13.9, 14.5, 17.4, 0, 0.8, 14.7, 0, 3.5, 10.2, 9.3, 14.7]`\n",
      "\n",
      "A run is replayed using the `replay.py` script like so:\n",
      "\n",
      "`$ python replay.py -f previous.out -x`\n",
      "\n",
      "The `-f` switch (which is mandatory) specifies the name of the input data file and the `-x` option enables a graphical plot of the system dispatch that you can navigate using zoom in, zoom out and pan controls. By including the `--spills` option, surplus energy in each hour will be plotted above the demand line in a lighter shade than the usual colour of the spilling generator.  All command line options can be displayed using:\n",
      "\n",
      "`$ python replay.py --help`"
     ]
    },
    {
     "cell_type": "heading",
     "level": 2,
     "metadata": {},
     "source": [
      "Summarising the results"
     ]
    },
    {
     "cell_type": "markdown",
     "metadata": {},
     "source": [
      "At the end of a simulation run, the results (including score, generator sizes, generated energy, CO2 emissions, etc.) can be fed through an AWK script called [summary.awk](https://git.ozlabs.org/?p=nemo.git;a=blob;f=summary.awk;hb=HEAD). You will need a version of AWK installed. This is almost guaranteed to be installed on a Linux or Mac OS X system, but for Windows you can download a [version](http://gnuwin32.sourceforge.net/packages/gawk.htm) from Sourceforge.\n",
      "\n",
      "You can feed the output of `evolve.py` or `replay.py` into `summary.awk`.  For example:\n",
      "\n",
      "`$ python replay.py -f example.data -v | awk -f summary.awk`\n",
      "\n",
      "or:\n",
      "\n",
      "`$ python evolve.py -s re100 | awk -f summary.awk`\n",
      "\n",
      "(although the latter means that you will have no opportunity to see the detailed results as they will be consumed by AWK)."
     ]
    },
    {
     "cell_type": "code",
     "collapsed": false,
     "input": [],
     "language": "python",
     "metadata": {},
     "outputs": []
    }
   ],
   "metadata": {}
  }
 ]
}