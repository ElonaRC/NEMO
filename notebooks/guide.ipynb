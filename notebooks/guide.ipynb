{
 "metadata": {
  "name": ""
 },
 "nbformat": 3,
 "nbformat_minor": 0,
 "worksheets": [
  {
   "cells": [
    {
     "cell_type": "heading",
     "level": 1,
     "metadata": {},
     "source": [
      "NEMO User's Guide: an IPython Notebook"
     ]
    },
    {
     "cell_type": "heading",
     "level": 2,
     "metadata": {},
     "source": [
      "A simple example"
     ]
    },
    {
     "cell_type": "markdown",
     "metadata": {},
     "source": [
      "NEMO can be driven by your own Python code.  Some simple examples of how to do this appear below.  First, we will create a simulation with a single combined cycle gas turbine (CCGT)."
     ]
    },
    {
     "cell_type": "code",
     "collapsed": false,
     "input": [
      "import nem\n",
      "import scenarios\n",
      "c = nem.Context()\n",
      "scenarios._one_ccgt(c)\n",
      "print c.generators"
     ],
     "language": "python",
     "metadata": {},
     "outputs": [
      {
       "output_type": "stream",
       "stream": "stdout",
       "text": [
        "[CCGT (NSW1), 0.00 GW]\n"
       ]
      }
     ],
     "prompt_number": 1
    },
    {
     "cell_type": "markdown",
     "metadata": {},
     "source": [
      "Then run the simulation:"
     ]
    },
    {
     "cell_type": "code",
     "collapsed": false,
     "input": [
      "nem.run(c)\n",
      "print c"
     ],
     "language": "python",
     "metadata": {},
     "outputs": [
      {
       "output_type": "stream",
       "stream": "stdout",
       "text": [
        "Timesteps: 8760 h\n",
        "Demand energy: 204.4 TWh\n",
        "Spilled energy: 0.0 TWh\n",
        "Unserved energy: 100.000%\n",
        "WARNING: NEM reliability standard exceeded\n",
        "Unserved total hours: 8760\n",
        "min, max shortfalls: (15469.0, 33645.0)\n"
       ]
      }
     ],
     "prompt_number": 2
    },
    {
     "cell_type": "markdown",
     "metadata": {},
     "source": [
      "The CCGT is configured with a capacity of 0 MW. Hence, no electricity is served in the simulation (100% unserved energy) and the largest shortfall was 33,645 MW (33.6 GW). This figure corresponds to the peak demand in the simulated year. So let's change the capacity of the only generator (generator #0) to 40 GW:"
     ]
    },
    {
     "cell_type": "code",
     "collapsed": false,
     "input": [
      "c.generators[0].set_capacity(40)\n",
      "nem.run(c)\n",
      "print c"
     ],
     "language": "python",
     "metadata": {},
     "outputs": [
      {
       "output_type": "stream",
       "stream": "stdout",
       "text": [
        "Timesteps: 8760 h\n",
        "Demand energy: 204.4 TWh\n",
        "Spilled energy: 0.0 TWh\n",
        "No unserved energy\n"
       ]
      }
     ],
     "prompt_number": 3
    },
    {
     "cell_type": "markdown",
     "metadata": {},
     "source": [
      "This time, all energy was served."
     ]
    },
    {
     "cell_type": "heading",
     "level": 2,
     "metadata": {},
     "source": [
      "Scripting simulations "
     ]
    },
    {
     "cell_type": "markdown",
     "metadata": {},
     "source": [
      "Writing NEMO in Python allows the simulation framework to be easily scripted using Python language constructs, such as for loops. Using the previous example, the following small script demonstrates how simulation runs can be automated:"
     ]
    },
    {
     "cell_type": "code",
     "collapsed": false,
     "input": [
      "c = nem.Context()\n",
      "scenarios._one_ccgt(c)\n",
      "for i in range(0, 40):\n",
      "    c.generators[0].set_capacity(i)\n",
      "    nem.run(c)\n",
      "    if c.unserved_energy == 0:\n",
      "        break\n",
      "print c.generators"
     ],
     "language": "python",
     "metadata": {},
     "outputs": [
      {
       "output_type": "stream",
       "stream": "stdout",
       "text": [
        "[CCGT (NSW1), 34.00 GW]\n"
       ]
      }
     ],
     "prompt_number": 6
    },
    {
     "cell_type": "markdown",
     "metadata": {},
     "source": [
      "Once the generator capacity reaches 34 GW, there is no unserved energy."
     ]
    },
    {
     "cell_type": "heading",
     "level": 2,
     "metadata": {},
     "source": [
      "Scenarios"
     ]
    },
    {
     "cell_type": "markdown",
     "metadata": {},
     "source": [
      "NEMO contains two types of scenarios: supply-side and demand-side sceanrios. The supply-side scenario modifies the list of generators. For example:"
     ]
    },
    {
     "cell_type": "code",
     "collapsed": false,
     "input": [
      "c = nem.Context()\n",
      "scenarios.ccgt(c)\n",
      "print c.generators"
     ],
     "language": "python",
     "metadata": {},
     "outputs": [
      {
       "output_type": "stream",
       "stream": "stdout",
       "text": [
        "[CCGT (NSW1), 0.00 GW, QLD1 pumped-hydro (QLD1), 0.50 GW, NSW1 pumped-hydro (NSW1), 1.74 GW, TAS1 hydro (TAS1), 2.25 GW, NSW1 hydro (NSW1), 0.91 GW, VIC1 hydro (VIC1), 2.24 GW, OCGT (NSW1), 0.00 GW]\n"
       ]
      }
     ],
     "prompt_number": 7
    },
    {
     "cell_type": "markdown",
     "metadata": {},
     "source": [
      "The current supply-side scenarios include:\n",
      "\n",
      "  * ccgt\n",
      "  * ccgt-ccs\n",
      "  * coal-ccs\n",
      "  * replacement\n",
      "  * re100\n",
      "  * re100+batteries\n",
      "  * re100+dsp\n",
      "  * re100+egs\n",
      "  * re100+hsa\n",
      "  * re100+geo\n",
      "  * re100-nocst\n",
      "  * re100+geo-nocst\n",
      "  * re+fossil\n",
      "  * re+ccs\n",
      "  * theworks\n",
      "\n",
      "     \n",
      "A full list of scenarios (with descriptions) can be obtained by running:\n",
      "\n",
      "`python evolve.py --list-scenarios`\n",
      "\n",
      "Demand-side scenarios modify the electricity demand time series before the simulation runs. Demand-side scenarios behave like operators that can be combined in any combination to modify the demand as desired. These are: \n",
      "\n",
      " * `roll:X` rolls the load by x timesteps\n",
      " * `scale:X` scales the load by x percent\n",
      " * `shift:N:H1:H2` shifts n megawatts every day from hour h1 to hour h2\n",
      " * `peaks:N:X` adjust demand peaks over n megawatts by x percent\n",
      " * `npeaks:N:X` adjust top n demand peaks by x percent\n",
      "\n",
      "For example, applying scale:-10 followed by shift:1000:16:12 will reduce the overall demand by 10% and then shift 1 MW of demand from 4pm to noon every day of the year."
     ]
    },
    {
     "cell_type": "heading",
     "level": 2,
     "metadata": {},
     "source": [
      "Configuration file"
     ]
    },
    {
     "cell_type": "markdown",
     "metadata": {},
     "source": [
      "NEMO uses a configuration file to give users control over where site-specific data such as demand time series are to be found. The location of the configuration file can be specified by setting the NEMORC environment variable. The configuration file format is similar to Windows INI files; it has sections (in brackets) and, within sections, key=value pairs.\n",
      "\n",
      "The default configuration file is called default.cfg. The keys currently recognised are:\n",
      "\n",
      "  * [generation]\n",
      "  *  *  cst-trace -- filename of CST generation traces\n",
      "  *  *  egs-geothermal-trace -- filename of EGS geothermal generation traces\n",
      "  *  *  hsa-geothermal-trace -- filename of HSA geothermal generation traces\n",
      "  *  *  wind-trace -- filename of wind generation traces\n",
      "  *  *  pv1axis-trace -- filename of 1-axis PV generation traces\n",
      "  * [demand]\n",
      "  *  *  demand-trace -- filename of demand trace data"
     ]
    },
    {
     "cell_type": "heading",
     "level": 2,
     "metadata": {},
     "source": [
      "Running an optimisation"
     ]
    },
    {
     "cell_type": "markdown",
     "metadata": {},
     "source": [
      "Instead of running a single simulation, it is more interesting to use evolve.py which drives an evolutionary algorithm to find the least cost portfolio that meets demand. There are many options which you can discover by running `python evolve.py --help`. Here is a simple example to find the least cost portfolio using the default \"re100\" scenario (100% renewables):\n",
      "\n",
      "`$ python evolve.py -s re100`\n",
      "\n",
      "At the end of a run, details of the least cost system are printed on the console: the capacity of each generator, the energy supplied, CO2 emissions, costs, and the average cost of generation in dollars per MWh.  If you want to see a plot of the system dispatch, you need to use the `replay.py` script described in the next section.\n",
      "\n",
      "Many of the optimisation parameters can be controlled from the command line, requiring no changes to the source code. Typically, source code changes are only required to add [new supply scenario functions](https://git.ozlabs.org/?p=nemo.git;a=blob;f=scenarios.py;hb=HEAD) or [cost classes](https://git.ozlabs.org/?p=nemo.git;a=blob;f=costs.py;hb=HEAD). The command line options for `evolve.py` are documented as follows:\n",
      "\n",
      "| Short option | Long option | Description                                  | Default |\n",
      "|--------------|-------------|----------------------------------------------|---------|\n",
      "| -h | --help                | Show help and then exit                      |         |\n",
      "| -c | --carbon-price        | Carbon price in \\$/tonne                     | 25      |\n",
      "| -d | --demand-modifer      | Demand modifier                              | unchanged |\n",
      "| -g | --generations         | Number of generations to run                 | 100     |\n",
      "| -r | --discount-rate       | Discount rate                                | 0.05    |\n",
      "| -s | --supply-scenario     | Generation mix scenario                      | `re100` |\n",
      "| -t | --transmission        | Include transmission costs                   | False   |\n",
      "| -v | --verbose             | Be verbose                                   | False   |\n",
      "|    | --bioenergy-limit     | Limit on annual energy from bioenergy in TWh/year | 20 |\n",
      "|    | --ccs-storage-costs   | CCS storage costs in \\$/tonne                | 27      |\n",
      "|    | --coal-ccs-costs      | Coal CCS capital cost in \\$/kW               |         |\n",
      "|    | --coal-price          | Coal price in \\$/GJ                          | 1.86    |\n",
      "|    | --costs               | Use different cost scenario                  | AETA2013-in2030-mid |\n",
      "|    | --emissions-limit     | Limit total emissions to N Mt/year           | None |\n",
      "|    | --fossil-limit        | Limit fraction of energy from fossil sources | None |\n",
      "|    | --gas-price           | Gas price in \\$/GJ                           | 11   |\n",
      "|    | --hydro-limit         | Limit on annual energy from hydro in TWh/year| 12   |\n",
      "|    | --lambda              | CMA-ES lambda value                          | None (autodetect) |\n",
      "|    | --list-scenarios      | Print list of scenarios and exit             |      |\n",
      "|    | --min-regional-generation | Minimum share of energy generated intra-region | None |\n",
      "|    | --nsp-limit           | Non-synchronous penetration limit            | 0.75 |\n",
      "|    | --reliability-std     | Reliability standard (% unserved)            | None |\n",
      "|    | --seed                | Seed for random number generator             | None |\n",
      "|    | --sigma               | CMA-ES sigma value                           | 2.0  |\n",
      "|    | --trace-file          | Filename for evaluation trace                | None |\n",
      "|    | --version             | Print version number and exit                |      |"
     ]
    },
    {
     "cell_type": "heading",
     "level": 2,
     "metadata": {},
     "source": [
      "Replaying a simulation"
     ]
    },
    {
     "cell_type": "markdown",
     "metadata": {},
     "source": [
      "To avoid having to re-run a long optimisation just to examine the resulting system, it is possible to reproduce a single run using the results from an earlier optimisation. The output of an `evolve.py` run must be copied and pasted into a text file (in this example, `previous.out`, but the file can have any filename). A run is reproduced using the `replay.py` script like so:\n",
      "\n",
      "`$ python replay.py -f previous.out -x`\n",
      "\n",
      "The `-f` switch (which is mandatory) specifies the name of the input data file and the `-x` option enables a graphical plot of the system dispatch that you can navigate using zoom in, zoom out and pan controls. By including the `--spills' option, surplus energy in each hour will be plotted above the demand line in a lighter shade than the colour of the spilling generator.  All command line options can be displayed using:\n",
      "\n",
      "`$ python replay.py --help`\n",
      "\n",
      "The input file for `replay.py` consists of any number of configurations to replay, one per line.  Each line must begin with the scenario name (eg, `re100`) and then a Python list of capacties (in GW) for each generator. The format is exactly the same as the line starting \"List:\" in the output of `evolve.py`. For example:\n",
      "\n",
      "`re100: [0, 0, 23.25, 0, 0, 0, 0, 0, 0, 0, 0, 0, 0, 0, 0, 0, 2.74, 1.16, 0.96, 0.36, 1.73, 0, 4.74]`"
     ]
    },
    {
     "cell_type": "heading",
     "level": 2,
     "metadata": {},
     "source": [
      "Summarising the results"
     ]
    },
    {
     "cell_type": "markdown",
     "metadata": {},
     "source": [
      "At the end of a simulation run, the results (including score, generator sizes, generated energy, CO2 emissions, etc.) can be fed through an AWK script called [summary.awk](https://git.ozlabs.org/?p=nemo.git;a=blob;f=summary.awk;hb=HEAD). You will need a version of AWK installed. This is almost guaranteed to be installed on a Linux or Mac OS X system, but for Windows you can download a [version](http://gnuwin32.sourceforge.net/packages/gawk.htm) from Sourceforge.\n",
      "\n",
      "You can feed the output of `evolve.py` or `replay.py` into `summary.awk`.  For example:\n",
      "\n",
      "`$ python replay.py -f example.data -v | awk -f summary.awk`\n",
      "\n",
      "or:\n",
      "\n",
      "`$ python evolve.py -s re100 | awk -f summary.awk`\n",
      "\n",
      "(although the latter means that you will have no opportunity to see the detailed results as they will be consumed by AWK)."
     ]
    }
   ],
   "metadata": {}
  }
 ]
}